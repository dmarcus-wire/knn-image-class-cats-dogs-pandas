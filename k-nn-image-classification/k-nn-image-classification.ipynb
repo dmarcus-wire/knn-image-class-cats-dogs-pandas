{
 "cells": [
  {
   "cell_type": "markdown",
   "source": [
    "k-NN\n",
    "- simplest model for classification\n",
    "- measures distance between data neighbors\n",
    "- not really learning\n",
    "- requires saving the model plus the data to make predictions from\n",
    "- computationally expensive due to storing training/test data on disk\n",
    "- ranking algorithm of similarity\n",
    "- is the input most like a, b or c category"
   ],
   "metadata": {
    "collapsed": false,
    "pycharm": {
     "name": "#%% md\n"
    }
   }
  },
  {
   "cell_type": "markdown",
   "source": [
    "Import packages"
   ],
   "metadata": {
    "collapsed": false
   }
  },
  {
   "cell_type": "code",
   "execution_count": 3,
   "outputs": [],
   "source": [
    "from sklearn.neighbors import KNeighborsClassifier\n",
    "from sklearn.preprocessing import LabelEncoder\n",
    "from sklearn.model_selection import train_test_split\n",
    "from sklearn.metrics import classification_report\n",
    "from imutils import paths\n",
    "import numpy as np\n",
    "import argparse\n",
    "import cv2\n",
    "import os"
   ],
   "metadata": {
    "collapsed": false,
    "pycharm": {
     "name": "#%%\n"
    }
   }
  },
  {
   "cell_type": "markdown",
   "source": [
    "Build image preprocessor"
   ],
   "metadata": {
    "collapsed": false
   }
  },
  {
   "cell_type": "code",
   "execution_count": 4,
   "outputs": [],
   "source": [
    "class SimplePreprocessor:\n",
    "\tdef __init__(self, width, height, inter=cv2.INTER_AREA):\n",
    "\t\t# store the target image width, height, and interpolation\n",
    "\t\t# method used when resizing\n",
    "\t\tself.width = width\n",
    "\t\tself.height = height\n",
    "\t\tself.inter = inter\n",
    "\n",
    "\tdef preprocess(self, image):\n",
    "\t\t# resize the image to a fixed size, ignoring the aspect\n",
    "\t\t# ratio\n",
    "\t\treturn cv2.resize(image, (self.width, self.height),\n",
    "\t\t\tinterpolation=self.inter)"
   ],
   "metadata": {
    "collapsed": false,
    "pycharm": {
     "name": "#%%\n"
    }
   }
  },
  {
   "cell_type": "markdown",
   "source": [
    "\n",
    "Build image loader"
   ],
   "metadata": {
    "collapsed": false
   }
  },
  {
   "cell_type": "code",
   "execution_count": 5,
   "outputs": [],
   "source": [
    "class SimpleDatasetLoader:\n",
    "\tdef __init__(self, preprocessors=None):\n",
    "\t\t# store the image preprocessor\n",
    "\t\tself.preprocessors = preprocessors\n",
    "\n",
    "\t\t# if the preprocessors are None, initialize them as an\n",
    "\t\t# empty list\n",
    "\t\tif self.preprocessors is None:\n",
    "\t\t\tself.preprocessors = []\n",
    "\n",
    "\tdef load(self, imagePaths, verbose=-1):\n",
    "\t\t# initialize the list of features and labels\n",
    "\t\tdata = []\n",
    "\t\tlabels = []\n",
    "\n",
    "\t\t# loop over the input images\n",
    "\t\tfor (i, imagePath) in enumerate(imagePaths):\n",
    "\t\t\t# load the image and extract the class label assuming\n",
    "\t\t\t# that our path has the following format:\n",
    "\t\t\t# /path/to/dataset/{class}/{image}.jpg\n",
    "\t\t\timage = cv2.imread(imagePath)\n",
    "\t\t\tlabel = imagePath.split(os.path.sep)[-2]\n",
    "\n",
    "            # check to see if our preprocessors are not None\n",
    "\t\t\tif self.preprocessors is not None:\n",
    "\t\t\t\t# loop over the preprocessors and apply each to\n",
    "\t\t\t\t# the image\n",
    "\t\t\t\tfor p in self.preprocessors:\n",
    "\t\t\t\t\timage = p.preprocess(image)\n",
    "\n",
    "\t\t\t# treat our processed image as a \"feature vector\"\n",
    "\t\t\t# by updating the data list followed by the labels\n",
    "\t\t\tdata.append(image)\n",
    "\t\t\tlabels.append(label)\n",
    "\n",
    "\t\t\t# show an update every `verbose` images\n",
    "\t\t\tif verbose > 0 and i > 0 and (i + 1) % verbose == 0:\n",
    "\t\t\t\tprint(\"[INFO] processed {}/{}\".format(i + 1,\n",
    "\t\t\t\t\tlen(imagePaths)))\n",
    "\n",
    "\t\t# return a tuple of the data and labels\n",
    "\t\treturn (np.array(data), np.array(labels))"
   ],
   "metadata": {
    "collapsed": false,
    "pycharm": {
     "name": "#%%\n"
    }
   }
  },
  {
   "cell_type": "markdown",
   "source": [
    "Implement k-NN"
   ],
   "metadata": {
    "collapsed": false
   }
  },
  {
   "cell_type": "code",
   "execution_count": 6,
   "outputs": [],
   "source": [
    "args = {\n",
    "\t\"dataset\": \"dataset/animals\",\n",
    "\t\"neighbors\": 1,\n",
    "\t\"jobs\": -1\n",
    "}"
   ],
   "metadata": {
    "collapsed": false,
    "pycharm": {
     "name": "#%%\n"
    }
   }
  },
  {
   "cell_type": "markdown",
   "source": [
    "Get list of images to process"
   ],
   "metadata": {
    "collapsed": false
   }
  },
  {
   "cell_type": "code",
   "execution_count": 7,
   "outputs": [
    {
     "name": "stdout",
     "output_type": "stream",
     "text": [
      "[INFO] loading images...\n",
      "[INFO] processed 500/3000\n",
      "[INFO] processed 1000/3000\n",
      "[INFO] processed 1500/3000\n",
      "[INFO] processed 2000/3000\n",
      "[INFO] processed 2500/3000\n",
      "[INFO] processed 3000/3000\n",
      "[INFO] features matrix: 8.8MB\n"
     ]
    }
   ],
   "source": [
    "print(\"[INFO] loading images...\")\n",
    "imagePaths = list(paths.list_images(args[\"dataset\"]))\n",
    "\n",
    "# init the image preprocessor\n",
    "# load dataset from disk\n",
    "# reshape the matrix\n",
    "sp = SimplePreprocessor(32, 32)\n",
    "sdl = SimpleDatasetLoader(preprocessors=[sp])\n",
    "(data, labels) = sdl.load(imagePaths, verbose=500)\n",
    "data = data.reshape((data.shape[0], 3072))\n",
    "\n",
    "# show info on mem consumption\n",
    "print(\"[INFO] features matrix: {:.1f}MB\".format(\n",
    "\tdata.nbytes / (1024 * 1024.0)))"
   ],
   "metadata": {
    "collapsed": false,
    "pycharm": {
     "name": "#%%\n"
    }
   }
  },
  {
   "cell_type": "markdown",
   "source": [
    "Encode integers"
   ],
   "metadata": {
    "collapsed": false
   }
  },
  {
   "cell_type": "code",
   "execution_count": 8,
   "outputs": [],
   "source": [
    "le = LabelEncoder()\n",
    "labels = le.fit_transform(labels)\n",
    "\n",
    "# split the data into train and  test 75% : 25%\n",
    "(trainX, testX, trainY, testY) = train_test_split(data, labels, test_size=0.25, random_state=42)"
   ],
   "metadata": {
    "collapsed": false,
    "pycharm": {
     "name": "#%%\n"
    }
   }
  },
  {
   "cell_type": "markdown",
   "source": [
    "Train and evaluate k-NN classifier"
   ],
   "metadata": {
    "collapsed": false
   }
  },
  {
   "cell_type": "code",
   "execution_count": 9,
   "outputs": [
    {
     "name": "stdout",
     "output_type": "stream",
     "text": [
      "[INFO] evaluating k-NN classifier...\n",
      "              precision    recall  f1-score   support\n",
      "\n",
      "        cats       0.40      0.56      0.46       249\n",
      "        dogs       0.41      0.47      0.43       262\n",
      "       panda       0.80      0.32      0.46       239\n",
      "\n",
      "    accuracy                           0.45       750\n",
      "   macro avg       0.53      0.45      0.45       750\n",
      "weighted avg       0.53      0.45      0.45       750\n",
      "\n"
     ]
    }
   ],
   "source": [
    "print(\"[INFO] evaluating k-NN classifier...\")\n",
    "model = KNeighborsClassifier(n_neighbors=args[\"neighbors\"],\n",
    "        n_jobs=args[\"jobs\"])\n",
    "\n",
    "model.fit(trainX, trainY)\n",
    "print(classification_report(testY, model.predict(testX),\n",
    "        target_names=le.classes_))"
   ],
   "metadata": {
    "collapsed": false,
    "pycharm": {
     "name": "#%%\n"
    }
   }
  },
  {
   "cell_type": "code",
   "execution_count": null,
   "outputs": [],
   "source": [],
   "metadata": {
    "collapsed": false,
    "pycharm": {
     "name": "#%%\n"
    }
   }
  }
 ],
 "metadata": {
  "kernelspec": {
   "display_name": "Python 3",
   "language": "python",
   "name": "python3"
  },
  "language_info": {
   "codemirror_mode": {
    "name": "ipython",
    "version": 2
   },
   "file_extension": ".py",
   "mimetype": "text/x-python",
   "name": "python",
   "nbconvert_exporter": "python",
   "pygments_lexer": "ipython2",
   "version": "2.7.6"
  }
 },
 "nbformat": 4,
 "nbformat_minor": 0
}